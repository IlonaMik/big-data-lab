{
  "cells": [
    {
      "cell_type": "markdown",
      "metadata": {
        "id": "view-in-github",
        "colab_type": "text"
      },
      "source": [
        "<a href=\"https://colab.research.google.com/github/IlonaMik/big-data-lab/blob/master/notebooks/01_ds_lab_project_bootstrap.ipynb\" target=\"_parent\"><img src=\"https://colab.research.google.com/assets/colab-badge.svg\" alt=\"Open In Colab\"/></a>"
      ]
    },
    {
      "cell_type": "markdown",
      "metadata": {
        "id": "aaV34d8tUSfO"
      },
      "source": [
        "## Infrastruture as Code git repo cloning\n"
      ]
    },
    {
      "cell_type": "code",
      "execution_count": 1,
      "metadata": {
        "id": "swdSyK4aUSfO"
      },
      "outputs": [],
      "source": [
        "REPO_NAME=\"big-data-lab\"\n",
        "USER_NAME=\"IlonaMik\" # TODO: replace with your GitHub username"
      ]
    },
    {
      "cell_type": "code",
      "execution_count": 3,
      "metadata": {
        "id": "gxhVtKprUSfP",
        "outputId": "b0a1a636-78a4-4308-a73c-1ecae1d83c43",
        "colab": {
          "base_uri": "https://localhost:8080/"
        }
      },
      "outputs": [
        {
          "output_type": "stream",
          "name": "stdout",
          "text": [
            "env: REPO_NAME=big-data-lab\n",
            "env: USER_NAME=IlonaMik\n"
          ]
        }
      ],
      "source": [
        "%env REPO_NAME=$REPO_NAME\n",
        "%env USER_NAME=$USER_NAME"
      ]
    },
    {
      "cell_type": "code",
      "execution_count": 4,
      "metadata": {
        "id": "POIxxHHGUSfP",
        "outputId": "2c2eaaab-ce8f-4938-e7b7-fdafa7af184c",
        "colab": {
          "base_uri": "https://localhost:8080/"
        }
      },
      "outputs": [
        {
          "output_type": "stream",
          "name": "stdout",
          "text": [
            "Cloning into 'big-data-lab'...\n",
            "remote: Enumerating objects: 111, done.\u001b[K\n",
            "remote: Counting objects:   2% (1/43)\u001b[K\rremote: Counting objects:   4% (2/43)\u001b[K\rremote: Counting objects:   6% (3/43)\u001b[K\rremote: Counting objects:   9% (4/43)\u001b[K\rremote: Counting objects:  11% (5/43)\u001b[K\rremote: Counting objects:  13% (6/43)\u001b[K\rremote: Counting objects:  16% (7/43)\u001b[K\rremote: Counting objects:  18% (8/43)\u001b[K\rremote: Counting objects:  20% (9/43)\u001b[K\rremote: Counting objects:  23% (10/43)\u001b[K\rremote: Counting objects:  25% (11/43)\u001b[K\rremote: Counting objects:  27% (12/43)\u001b[K\rremote: Counting objects:  30% (13/43)\u001b[K\rremote: Counting objects:  32% (14/43)\u001b[K\rremote: Counting objects:  34% (15/43)\u001b[K\rremote: Counting objects:  37% (16/43)\u001b[K\rremote: Counting objects:  39% (17/43)\u001b[K\rremote: Counting objects:  41% (18/43)\u001b[K\rremote: Counting objects:  44% (19/43)\u001b[K\rremote: Counting objects:  46% (20/43)\u001b[K\rremote: Counting objects:  48% (21/43)\u001b[K\rremote: Counting objects:  51% (22/43)\u001b[K\rremote: Counting objects:  53% (23/43)\u001b[K\rremote: Counting objects:  55% (24/43)\u001b[K\rremote: Counting objects:  58% (25/43)\u001b[K\rremote: Counting objects:  60% (26/43)\u001b[K\rremote: Counting objects:  62% (27/43)\u001b[K\rremote: Counting objects:  65% (28/43)\u001b[K\rremote: Counting objects:  67% (29/43)\u001b[K\rremote: Counting objects:  69% (30/43)\u001b[K\rremote: Counting objects:  72% (31/43)\u001b[K\rremote: Counting objects:  74% (32/43)\u001b[K\rremote: Counting objects:  76% (33/43)\u001b[K\rremote: Counting objects:  79% (34/43)\u001b[K\rremote: Counting objects:  81% (35/43)\u001b[K\rremote: Counting objects:  83% (36/43)\u001b[K\rremote: Counting objects:  86% (37/43)\u001b[K\rremote: Counting objects:  88% (38/43)\u001b[K\rremote: Counting objects:  90% (39/43)\u001b[K\rremote: Counting objects:  93% (40/43)\u001b[K\rremote: Counting objects:  95% (41/43)\u001b[K\rremote: Counting objects:  97% (42/43)\u001b[K\rremote: Counting objects: 100% (43/43)\u001b[K\rremote: Counting objects: 100% (43/43), done.\u001b[K\n",
            "remote: Compressing objects: 100% (30/30), done.\u001b[K\n",
            "remote: Total 111 (delta 28), reused 13 (delta 13), pack-reused 68 (from 2)\u001b[K\n",
            "Receiving objects: 100% (111/111), 448.45 KiB | 5.98 MiB/s, done.\n",
            "Resolving deltas: 100% (45/45), done.\n"
          ]
        },
        {
          "output_type": "execute_result",
          "data": {
            "text/plain": []
          },
          "metadata": {},
          "execution_count": 4
        }
      ],
      "source": [
        "%%shell\n",
        "rm -rf $REPO_NAME\n",
        "git clone https://github.com/$USER_NAME/$REPO_NAME.git\n",
        "cd $REPO_NAME"
      ]
    },
    {
      "cell_type": "markdown",
      "metadata": {
        "id": "kCusrOh6USfP"
      },
      "source": [
        "## Setup Terraform"
      ]
    },
    {
      "cell_type": "code",
      "execution_count": 5,
      "metadata": {
        "id": "dNnXrqkTUSfP",
        "outputId": "b943b490-b5e5-405f-f870-bb2a8106c6b7",
        "colab": {
          "base_uri": "https://localhost:8080/"
        }
      },
      "outputs": [
        {
          "output_type": "stream",
          "name": "stdout",
          "text": [
            "env: TERRAFORM_VERSION=1.9.8\n",
            "env: PATH=/content/bin:/opt/bin:/usr/local/nvidia/bin:/usr/local/cuda/bin:/usr/local/sbin:/usr/local/bin:/usr/sbin:/usr/bin:/sbin:/bin:/tools/node/bin:/tools/google-cloud-sdk/bin\n",
            "--2024-12-21 13:10:40--  https://releases.hashicorp.com/terraform/1.9.8/terraform_1.9.8_linux_amd64.zip\n",
            "Resolving releases.hashicorp.com (releases.hashicorp.com)... 18.160.60.78, 18.160.60.2, 18.160.60.122, ...\n",
            "Connecting to releases.hashicorp.com (releases.hashicorp.com)|18.160.60.78|:443... connected.\n",
            "HTTP request sent, awaiting response... 200 OK\n",
            "Length: 27041434 (26M) [application/zip]\n",
            "Saving to: ‘terraform_1.9.8_linux_amd64.zip’\n",
            "\n",
            "terraform_1.9.8_lin 100%[===================>]  25.79M   136MB/s    in 0.2s    \n",
            "\n",
            "2024-12-21 13:10:40 (136 MB/s) - ‘terraform_1.9.8_linux_amd64.zip’ saved [27041434/27041434]\n",
            "\n",
            "Archive:  terraform_1.9.8_linux_amd64.zip\n",
            "  inflating: bin/LICENSE.txt         \n",
            "  inflating: bin/terraform           \n",
            "Terraform v1.9.8\n",
            "on linux_amd64\n",
            "\n",
            "Your version of Terraform is out of date! The latest version\n",
            "is 1.10.2. You can update by downloading from https://www.terraform.io/downloads.html\n"
          ]
        }
      ],
      "source": [
        "%run $REPO_NAME/notebooks/lib/00_terraform_setup.ipynb"
      ]
    },
    {
      "cell_type": "markdown",
      "metadata": {
        "id": "UmXfLs5MUSfP"
      },
      "source": [
        "## Lab configuration\n",
        "1. Edit `$REPO_NAME/notebooks/conf/00_env_variables.ipynb`"
      ]
    },
    {
      "cell_type": "code",
      "execution_count": 6,
      "metadata": {
        "id": "hfMNOdznUSfP",
        "outputId": "c3d62904-03d7-4fea-f21b-acd53d997125",
        "colab": {
          "base_uri": "https://localhost:8080/"
        }
      },
      "outputs": [
        {
          "output_type": "stream",
          "name": "stdout",
          "text": [
            "env: TF_VAR_ds_semester=2024l\n",
            "env: TF_VAR_user_id=7029\n",
            "env: TF_VAR_billing_account=010F63-C26505-34EFAB\n",
            "env: TF_VAR_region=europe-west1\n",
            "env: TF_VAR_project_name=ds-2024l-7029\n",
            "env: GIT_BRANCH=colab-dev\n"
          ]
        }
      ],
      "source": [
        "%run $REPO_NAME/notebooks/conf/00_env_variables.ipynb"
      ]
    },
    {
      "cell_type": "markdown",
      "metadata": {
        "id": "nC69Kx_MUSfP"
      },
      "source": [
        "## Google account authentication"
      ]
    },
    {
      "cell_type": "code",
      "execution_count": 8,
      "metadata": {
        "id": "9Ij6BgdmUSfP"
      },
      "outputs": [],
      "source": [
        "# Authenticate to the Google account\n",
        "from google.colab import auth\n",
        "auth.authenticate_user()"
      ]
    },
    {
      "cell_type": "markdown",
      "metadata": {
        "id": "q0SMXE-YUSfP"
      },
      "source": [
        "## Validating the infrastructure execution plan"
      ]
    },
    {
      "cell_type": "code",
      "execution_count": 9,
      "metadata": {
        "id": "ggMrFoqyUSfP",
        "outputId": "3ad6aad1-cbbe-4a53-cd31-2f0aed26b683",
        "colab": {
          "base_uri": "https://localhost:8080/"
        }
      },
      "outputs": [
        {
          "output_type": "stream",
          "name": "stdout",
          "text": [
            "\u001b[0m\u001b[1mInitializing the backend...\u001b[0m\n",
            "\u001b[0m\u001b[1mInitializing provider plugins...\u001b[0m\n",
            "- Finding hashicorp/google versions matching \"~> 6.12.0\"...\n",
            "- Installing hashicorp/google v6.12.0...\n",
            "- Installed hashicorp/google v6.12.0 (signed by HashiCorp)\n",
            "Terraform has created a lock file \u001b[1m.terraform.lock.hcl\u001b[0m to record the provider\n",
            "selections it made above. Include this file in your version control repository\n",
            "so that Terraform can guarantee to make the same selections by default when\n",
            "you run \"terraform init\" in the future.\u001b[0m\n",
            "\n",
            "\u001b[0m\u001b[1m\u001b[32mTerraform has been successfully initialized!\u001b[0m\u001b[32m\u001b[0m\n",
            "\u001b[0m\u001b[32m\n",
            "You may now begin working with Terraform. Try running \"terraform plan\" to see\n",
            "any changes that are required for your infrastructure. All Terraform commands\n",
            "should now work.\n",
            "\n",
            "If you ever set or change modules or backend configuration for Terraform,\n",
            "rerun this command to reinitialize your working directory. If you forget, other\n",
            "commands will detect it and remind you to do so if necessary.\u001b[0m\n",
            "\n",
            "Terraform used the selected providers to generate the following execution plan. Resource actions are indicated with the following symbols:\n",
            "  \u001b[32m+\u001b[0m create\u001b[0m\n",
            "\n",
            "Terraform will perform the following actions:\n",
            "\n",
            "\u001b[1m  # google_project.tbd_project\u001b[0m will be created\n",
            "\u001b[0m  \u001b[32m+\u001b[0m\u001b[0m resource \"google_project\" \"tbd_project\" {\n",
            "      \u001b[32m+\u001b[0m\u001b[0m auto_create_network = false\n",
            "      \u001b[32m+\u001b[0m\u001b[0m billing_account     = \"010F63-C26505-34EFAB\"\n",
            "      \u001b[32m+\u001b[0m\u001b[0m deletion_policy     = \"PREVENT\"\n",
            "      \u001b[32m+\u001b[0m\u001b[0m effective_labels    = {\n",
            "          \u001b[32m+\u001b[0m\u001b[0m \"goog-terraform-provisioned\" = \"true\"\n",
            "        }\n",
            "      \u001b[32m+\u001b[0m\u001b[0m id                  = (known after apply)\n",
            "      \u001b[32m+\u001b[0m\u001b[0m name                = \"Lab ds-2024l-7029\"\n",
            "      \u001b[32m+\u001b[0m\u001b[0m number              = (known after apply)\n",
            "      \u001b[32m+\u001b[0m\u001b[0m project_id          = \"ds-2024l-7029\"\n",
            "      \u001b[32m+\u001b[0m\u001b[0m terraform_labels    = {\n",
            "          \u001b[32m+\u001b[0m\u001b[0m \"goog-terraform-provisioned\" = \"true\"\n",
            "        }\n",
            "    }\n",
            "\n",
            "\u001b[1m  # google_project_iam_audit_config.tbd_project_audit\u001b[0m will be created\n",
            "\u001b[0m  \u001b[32m+\u001b[0m\u001b[0m resource \"google_project_iam_audit_config\" \"tbd_project_audit\" {\n",
            "      \u001b[32m+\u001b[0m\u001b[0m etag    = (known after apply)\n",
            "      \u001b[32m+\u001b[0m\u001b[0m id      = (known after apply)\n",
            "      \u001b[32m+\u001b[0m\u001b[0m project = (known after apply)\n",
            "      \u001b[32m+\u001b[0m\u001b[0m service = \"allServices\"\n",
            "\n",
            "      \u001b[32m+\u001b[0m\u001b[0m audit_log_config {\n",
            "          \u001b[32m+\u001b[0m\u001b[0m exempted_members = []\n",
            "          \u001b[32m+\u001b[0m\u001b[0m log_type         = \"ADMIN_READ\"\n",
            "        }\n",
            "      \u001b[32m+\u001b[0m\u001b[0m audit_log_config {\n",
            "          \u001b[32m+\u001b[0m\u001b[0m exempted_members = []\n",
            "          \u001b[32m+\u001b[0m\u001b[0m log_type         = \"DATA_READ\"\n",
            "        }\n",
            "      \u001b[32m+\u001b[0m\u001b[0m audit_log_config {\n",
            "          \u001b[32m+\u001b[0m\u001b[0m exempted_members = []\n",
            "          \u001b[32m+\u001b[0m\u001b[0m log_type         = \"DATA_WRITE\"\n",
            "        }\n",
            "    }\n",
            "\n",
            "\u001b[1m  # google_project_iam_member.editor-member\u001b[0m will be created\n",
            "\u001b[0m  \u001b[32m+\u001b[0m\u001b[0m resource \"google_project_iam_member\" \"editor-member\" {\n",
            "      \u001b[32m+\u001b[0m\u001b[0m etag    = (known after apply)\n",
            "      \u001b[32m+\u001b[0m\u001b[0m id      = (known after apply)\n",
            "      \u001b[32m+\u001b[0m\u001b[0m member  = (known after apply)\n",
            "      \u001b[32m+\u001b[0m\u001b[0m project = \"ds-2024l-7029\"\n",
            "      \u001b[32m+\u001b[0m\u001b[0m role    = \"roles/owner\"\n",
            "    }\n",
            "\n",
            "\u001b[1m  # google_project_iam_member.editor-supervisors[\"user:marek.wiewiorka@gmail.com\"]\u001b[0m will be created\n",
            "\u001b[0m  \u001b[32m+\u001b[0m\u001b[0m resource \"google_project_iam_member\" \"editor-supervisors\" {\n",
            "      \u001b[32m+\u001b[0m\u001b[0m etag    = (known after apply)\n",
            "      \u001b[32m+\u001b[0m\u001b[0m id      = (known after apply)\n",
            "      \u001b[32m+\u001b[0m\u001b[0m member  = \"user:marek.wiewiorka@gmail.com\"\n",
            "      \u001b[32m+\u001b[0m\u001b[0m project = \"ds-2024l-7029\"\n",
            "      \u001b[32m+\u001b[0m\u001b[0m role    = \"roles/editor\"\n",
            "    }\n",
            "\n",
            "\u001b[1m  # google_project_iam_member.editor-supervisors[\"user:sitekwb@gmail.com\"]\u001b[0m will be created\n",
            "\u001b[0m  \u001b[32m+\u001b[0m\u001b[0m resource \"google_project_iam_member\" \"editor-supervisors\" {\n",
            "      \u001b[32m+\u001b[0m\u001b[0m etag    = (known after apply)\n",
            "      \u001b[32m+\u001b[0m\u001b[0m id      = (known after apply)\n",
            "      \u001b[32m+\u001b[0m\u001b[0m member  = \"user:sitekwb@gmail.com\"\n",
            "      \u001b[32m+\u001b[0m\u001b[0m project = \"ds-2024l-7029\"\n",
            "      \u001b[32m+\u001b[0m\u001b[0m role    = \"roles/editor\"\n",
            "    }\n",
            "\n",
            "\u001b[1m  # google_project_iam_member.editor-supervisors[\"user:tgambin@gmail.com\"]\u001b[0m will be created\n",
            "\u001b[0m  \u001b[32m+\u001b[0m\u001b[0m resource \"google_project_iam_member\" \"editor-supervisors\" {\n",
            "      \u001b[32m+\u001b[0m\u001b[0m etag    = (known after apply)\n",
            "      \u001b[32m+\u001b[0m\u001b[0m id      = (known after apply)\n",
            "      \u001b[32m+\u001b[0m\u001b[0m member  = \"user:tgambin@gmail.com\"\n",
            "      \u001b[32m+\u001b[0m\u001b[0m project = \"ds-2024l-7029\"\n",
            "      \u001b[32m+\u001b[0m\u001b[0m role    = \"roles/editor\"\n",
            "    }\n",
            "\n",
            "\u001b[1m  # google_project_service.service[\"cloudresourcemanager.googleapis.com\"]\u001b[0m will be created\n",
            "\u001b[0m  \u001b[32m+\u001b[0m\u001b[0m resource \"google_project_service\" \"service\" {\n",
            "      \u001b[32m+\u001b[0m\u001b[0m disable_dependent_services = true\n",
            "      \u001b[32m+\u001b[0m\u001b[0m disable_on_destroy         = true\n",
            "      \u001b[32m+\u001b[0m\u001b[0m id                         = (known after apply)\n",
            "      \u001b[32m+\u001b[0m\u001b[0m project                    = \"ds-2024l-7029\"\n",
            "      \u001b[32m+\u001b[0m\u001b[0m service                    = \"cloudresourcemanager.googleapis.com\"\n",
            "    }\n",
            "\n",
            "\u001b[1m  # google_project_service.service[\"iam.googleapis.com\"]\u001b[0m will be created\n",
            "\u001b[0m  \u001b[32m+\u001b[0m\u001b[0m resource \"google_project_service\" \"service\" {\n",
            "      \u001b[32m+\u001b[0m\u001b[0m disable_dependent_services = true\n",
            "      \u001b[32m+\u001b[0m\u001b[0m disable_on_destroy         = true\n",
            "      \u001b[32m+\u001b[0m\u001b[0m id                         = (known after apply)\n",
            "      \u001b[32m+\u001b[0m\u001b[0m project                    = \"ds-2024l-7029\"\n",
            "      \u001b[32m+\u001b[0m\u001b[0m service                    = \"iam.googleapis.com\"\n",
            "    }\n",
            "\n",
            "\u001b[1m  # google_project_service.service[\"iamcredentials.googleapis.com\"]\u001b[0m will be created\n",
            "\u001b[0m  \u001b[32m+\u001b[0m\u001b[0m resource \"google_project_service\" \"service\" {\n",
            "      \u001b[32m+\u001b[0m\u001b[0m disable_dependent_services = true\n",
            "      \u001b[32m+\u001b[0m\u001b[0m disable_on_destroy         = true\n",
            "      \u001b[32m+\u001b[0m\u001b[0m id                         = (known after apply)\n",
            "      \u001b[32m+\u001b[0m\u001b[0m project                    = \"ds-2024l-7029\"\n",
            "      \u001b[32m+\u001b[0m\u001b[0m service                    = \"iamcredentials.googleapis.com\"\n",
            "    }\n",
            "\n",
            "\u001b[1m  # google_project_service.service[\"serviceusage.googleapis.com\"]\u001b[0m will be created\n",
            "\u001b[0m  \u001b[32m+\u001b[0m\u001b[0m resource \"google_project_service\" \"service\" {\n",
            "      \u001b[32m+\u001b[0m\u001b[0m disable_dependent_services = true\n",
            "      \u001b[32m+\u001b[0m\u001b[0m disable_on_destroy         = true\n",
            "      \u001b[32m+\u001b[0m\u001b[0m id                         = (known after apply)\n",
            "      \u001b[32m+\u001b[0m\u001b[0m project                    = \"ds-2024l-7029\"\n",
            "      \u001b[32m+\u001b[0m\u001b[0m service                    = \"serviceusage.googleapis.com\"\n",
            "    }\n",
            "\n",
            "\u001b[1m  # google_project_service.service[\"sts.googleapis.com\"]\u001b[0m will be created\n",
            "\u001b[0m  \u001b[32m+\u001b[0m\u001b[0m resource \"google_project_service\" \"service\" {\n",
            "      \u001b[32m+\u001b[0m\u001b[0m disable_dependent_services = true\n",
            "      \u001b[32m+\u001b[0m\u001b[0m disable_on_destroy         = true\n",
            "      \u001b[32m+\u001b[0m\u001b[0m id                         = (known after apply)\n",
            "      \u001b[32m+\u001b[0m\u001b[0m project                    = \"ds-2024l-7029\"\n",
            "      \u001b[32m+\u001b[0m\u001b[0m service                    = \"sts.googleapis.com\"\n",
            "    }\n",
            "\n",
            "\u001b[1m  # google_service_account.terraform\u001b[0m will be created\n",
            "\u001b[0m  \u001b[32m+\u001b[0m\u001b[0m resource \"google_service_account\" \"terraform\" {\n",
            "      \u001b[32m+\u001b[0m\u001b[0m account_id = \"ds-2024l-7029-lab\"\n",
            "      \u001b[32m+\u001b[0m\u001b[0m disabled   = false\n",
            "      \u001b[32m+\u001b[0m\u001b[0m email      = (known after apply)\n",
            "      \u001b[32m+\u001b[0m\u001b[0m id         = (known after apply)\n",
            "      \u001b[32m+\u001b[0m\u001b[0m member     = (known after apply)\n",
            "      \u001b[32m+\u001b[0m\u001b[0m name       = (known after apply)\n",
            "      \u001b[32m+\u001b[0m\u001b[0m project    = \"ds-2024l-7029\"\n",
            "      \u001b[32m+\u001b[0m\u001b[0m unique_id  = (known after apply)\n",
            "    }\n",
            "\n",
            "\u001b[1m  # google_storage_bucket.notebook-bucket\u001b[0m will be created\n",
            "\u001b[0m  \u001b[32m+\u001b[0m\u001b[0m resource \"google_storage_bucket\" \"notebook-bucket\" {\n",
            "      \u001b[32m+\u001b[0m\u001b[0m effective_labels            = {\n",
            "          \u001b[32m+\u001b[0m\u001b[0m \"goog-terraform-provisioned\" = \"true\"\n",
            "        }\n",
            "      \u001b[32m+\u001b[0m\u001b[0m force_destroy               = true\n",
            "      \u001b[32m+\u001b[0m\u001b[0m id                          = (known after apply)\n",
            "      \u001b[32m+\u001b[0m\u001b[0m location                    = \"EUROPE-WEST1\"\n",
            "      \u001b[32m+\u001b[0m\u001b[0m name                        = \"ds-2024l-7029-notebook-data\"\n",
            "      \u001b[32m+\u001b[0m\u001b[0m project                     = \"ds-2024l-7029\"\n",
            "      \u001b[32m+\u001b[0m\u001b[0m project_number              = (known after apply)\n",
            "      \u001b[32m+\u001b[0m\u001b[0m public_access_prevention    = \"enforced\"\n",
            "      \u001b[32m+\u001b[0m\u001b[0m rpo                         = (known after apply)\n",
            "      \u001b[32m+\u001b[0m\u001b[0m self_link                   = (known after apply)\n",
            "      \u001b[32m+\u001b[0m\u001b[0m storage_class               = \"STANDARD\"\n",
            "      \u001b[32m+\u001b[0m\u001b[0m terraform_labels            = {\n",
            "          \u001b[32m+\u001b[0m\u001b[0m \"goog-terraform-provisioned\" = \"true\"\n",
            "        }\n",
            "      \u001b[32m+\u001b[0m\u001b[0m uniform_bucket_level_access = true\n",
            "      \u001b[32m+\u001b[0m\u001b[0m url                         = (known after apply)\n",
            "\n",
            "      \u001b[32m+\u001b[0m\u001b[0m soft_delete_policy (known after apply)\n",
            "\n",
            "      \u001b[32m+\u001b[0m\u001b[0m versioning (known after apply)\n",
            "\n",
            "      \u001b[32m+\u001b[0m\u001b[0m website (known after apply)\n",
            "    }\n",
            "\n",
            "\u001b[1m  # google_storage_bucket.state-bucket\u001b[0m will be created\n",
            "\u001b[0m  \u001b[32m+\u001b[0m\u001b[0m resource \"google_storage_bucket\" \"state-bucket\" {\n",
            "      \u001b[32m+\u001b[0m\u001b[0m effective_labels            = {\n",
            "          \u001b[32m+\u001b[0m\u001b[0m \"goog-terraform-provisioned\" = \"true\"\n",
            "        }\n",
            "      \u001b[32m+\u001b[0m\u001b[0m force_destroy               = true\n",
            "      \u001b[32m+\u001b[0m\u001b[0m id                          = (known after apply)\n",
            "      \u001b[32m+\u001b[0m\u001b[0m location                    = \"EUROPE-WEST1\"\n",
            "      \u001b[32m+\u001b[0m\u001b[0m name                        = \"ds-2024l-7029-state\"\n",
            "      \u001b[32m+\u001b[0m\u001b[0m project                     = \"ds-2024l-7029\"\n",
            "      \u001b[32m+\u001b[0m\u001b[0m project_number              = (known after apply)\n",
            "      \u001b[32m+\u001b[0m\u001b[0m public_access_prevention    = \"enforced\"\n",
            "      \u001b[32m+\u001b[0m\u001b[0m rpo                         = (known after apply)\n",
            "      \u001b[32m+\u001b[0m\u001b[0m self_link                   = (known after apply)\n",
            "      \u001b[32m+\u001b[0m\u001b[0m storage_class               = \"STANDARD\"\n",
            "      \u001b[32m+\u001b[0m\u001b[0m terraform_labels            = {\n",
            "          \u001b[32m+\u001b[0m\u001b[0m \"goog-terraform-provisioned\" = \"true\"\n",
            "        }\n",
            "      \u001b[32m+\u001b[0m\u001b[0m uniform_bucket_level_access = false\n",
            "      \u001b[32m+\u001b[0m\u001b[0m url                         = (known after apply)\n",
            "\n",
            "      \u001b[32m+\u001b[0m\u001b[0m soft_delete_policy (known after apply)\n",
            "\n",
            "      \u001b[32m+\u001b[0m\u001b[0m versioning (known after apply)\n",
            "\n",
            "      \u001b[32m+\u001b[0m\u001b[0m website (known after apply)\n",
            "    }\n",
            "\n",
            "\u001b[1mPlan:\u001b[0m 14 to add, 0 to change, 0 to destroy.\n",
            "\u001b[0m\n",
            "Changes to Outputs:\n",
            "  \u001b[32m+\u001b[0m\u001b[0m project_name              = \"ds-2024l-7029\"\n",
            "  \u001b[32m+\u001b[0m\u001b[0m terraform_service_account = (known after apply)\n",
            "  \u001b[32m+\u001b[0m\u001b[0m terraform_state_bucket    = (known after apply)\n",
            "\n",
            "\n",
            "\n",
            "Note: You didn't use the -out option to save this plan, so Terraform can't guarantee to take exactly these actions if you run \"terraform apply\" now.\n"
          ]
        },
        {
          "output_type": "execute_result",
          "data": {
            "text/plain": []
          },
          "metadata": {},
          "execution_count": 9
        }
      ],
      "source": [
        "%%shell\n",
        "cd $REPO_NAME/infra/bootstrap\n",
        "terraform init\n",
        "terraform plan"
      ]
    },
    {
      "cell_type": "markdown",
      "metadata": {
        "id": "MZhRl71KUSfP"
      },
      "source": [
        "## Initial project setup\n",
        "\n",
        "* You're going to provision a new project.\n",
        "* In the first step you only do a very basic setup, e.g.\n",
        "  * enabling cloud services,\n",
        "  * creating a bucket for a Terraform state file and\n",
        "  * granting Editor roles to the lab instructors.\n",
        "* You can run below cells multiple time to observe the difference.\n",
        "\n"
      ]
    },
    {
      "cell_type": "code",
      "execution_count": 10,
      "metadata": {
        "id": "S106YOXTUSfQ",
        "outputId": "9d49b6ee-3932-4c03-ba96-96cb9813fe04",
        "colab": {
          "base_uri": "https://localhost:8080/"
        }
      },
      "outputs": [
        {
          "output_type": "stream",
          "name": "stdout",
          "text": [
            "\n",
            "Terraform used the selected providers to generate the following execution plan. Resource actions are indicated with the following symbols:\n",
            "  \u001b[32m+\u001b[0m create\u001b[0m\n",
            "\n",
            "Terraform will perform the following actions:\n",
            "\n",
            "\u001b[1m  # google_project.tbd_project\u001b[0m will be created\n",
            "\u001b[0m  \u001b[32m+\u001b[0m\u001b[0m resource \"google_project\" \"tbd_project\" {\n",
            "      \u001b[32m+\u001b[0m\u001b[0m auto_create_network = false\n",
            "      \u001b[32m+\u001b[0m\u001b[0m billing_account     = \"010F63-C26505-34EFAB\"\n",
            "      \u001b[32m+\u001b[0m\u001b[0m deletion_policy     = \"PREVENT\"\n",
            "      \u001b[32m+\u001b[0m\u001b[0m effective_labels    = {\n",
            "          \u001b[32m+\u001b[0m\u001b[0m \"goog-terraform-provisioned\" = \"true\"\n",
            "        }\n",
            "      \u001b[32m+\u001b[0m\u001b[0m id                  = (known after apply)\n",
            "      \u001b[32m+\u001b[0m\u001b[0m name                = \"Lab ds-2024l-7029\"\n",
            "      \u001b[32m+\u001b[0m\u001b[0m number              = (known after apply)\n",
            "      \u001b[32m+\u001b[0m\u001b[0m project_id          = \"ds-2024l-7029\"\n",
            "      \u001b[32m+\u001b[0m\u001b[0m terraform_labels    = {\n",
            "          \u001b[32m+\u001b[0m\u001b[0m \"goog-terraform-provisioned\" = \"true\"\n",
            "        }\n",
            "    }\n",
            "\n",
            "\u001b[1m  # google_project_iam_audit_config.tbd_project_audit\u001b[0m will be created\n",
            "\u001b[0m  \u001b[32m+\u001b[0m\u001b[0m resource \"google_project_iam_audit_config\" \"tbd_project_audit\" {\n",
            "      \u001b[32m+\u001b[0m\u001b[0m etag    = (known after apply)\n",
            "      \u001b[32m+\u001b[0m\u001b[0m id      = (known after apply)\n",
            "      \u001b[32m+\u001b[0m\u001b[0m project = (known after apply)\n",
            "      \u001b[32m+\u001b[0m\u001b[0m service = \"allServices\"\n",
            "\n",
            "      \u001b[32m+\u001b[0m\u001b[0m audit_log_config {\n",
            "          \u001b[32m+\u001b[0m\u001b[0m exempted_members = []\n",
            "          \u001b[32m+\u001b[0m\u001b[0m log_type         = \"ADMIN_READ\"\n",
            "        }\n",
            "      \u001b[32m+\u001b[0m\u001b[0m audit_log_config {\n",
            "          \u001b[32m+\u001b[0m\u001b[0m exempted_members = []\n",
            "          \u001b[32m+\u001b[0m\u001b[0m log_type         = \"DATA_READ\"\n",
            "        }\n",
            "      \u001b[32m+\u001b[0m\u001b[0m audit_log_config {\n",
            "          \u001b[32m+\u001b[0m\u001b[0m exempted_members = []\n",
            "          \u001b[32m+\u001b[0m\u001b[0m log_type         = \"DATA_WRITE\"\n",
            "        }\n",
            "    }\n",
            "\n",
            "\u001b[1m  # google_project_iam_member.editor-member\u001b[0m will be created\n",
            "\u001b[0m  \u001b[32m+\u001b[0m\u001b[0m resource \"google_project_iam_member\" \"editor-member\" {\n",
            "      \u001b[32m+\u001b[0m\u001b[0m etag    = (known after apply)\n",
            "      \u001b[32m+\u001b[0m\u001b[0m id      = (known after apply)\n",
            "      \u001b[32m+\u001b[0m\u001b[0m member  = (known after apply)\n",
            "      \u001b[32m+\u001b[0m\u001b[0m project = \"ds-2024l-7029\"\n",
            "      \u001b[32m+\u001b[0m\u001b[0m role    = \"roles/owner\"\n",
            "    }\n",
            "\n",
            "\u001b[1m  # google_project_iam_member.editor-supervisors[\"user:marek.wiewiorka@gmail.com\"]\u001b[0m will be created\n",
            "\u001b[0m  \u001b[32m+\u001b[0m\u001b[0m resource \"google_project_iam_member\" \"editor-supervisors\" {\n",
            "      \u001b[32m+\u001b[0m\u001b[0m etag    = (known after apply)\n",
            "      \u001b[32m+\u001b[0m\u001b[0m id      = (known after apply)\n",
            "      \u001b[32m+\u001b[0m\u001b[0m member  = \"user:marek.wiewiorka@gmail.com\"\n",
            "      \u001b[32m+\u001b[0m\u001b[0m project = \"ds-2024l-7029\"\n",
            "      \u001b[32m+\u001b[0m\u001b[0m role    = \"roles/editor\"\n",
            "    }\n",
            "\n",
            "\u001b[1m  # google_project_iam_member.editor-supervisors[\"user:sitekwb@gmail.com\"]\u001b[0m will be created\n",
            "\u001b[0m  \u001b[32m+\u001b[0m\u001b[0m resource \"google_project_iam_member\" \"editor-supervisors\" {\n",
            "      \u001b[32m+\u001b[0m\u001b[0m etag    = (known after apply)\n",
            "      \u001b[32m+\u001b[0m\u001b[0m id      = (known after apply)\n",
            "      \u001b[32m+\u001b[0m\u001b[0m member  = \"user:sitekwb@gmail.com\"\n",
            "      \u001b[32m+\u001b[0m\u001b[0m project = \"ds-2024l-7029\"\n",
            "      \u001b[32m+\u001b[0m\u001b[0m role    = \"roles/editor\"\n",
            "    }\n",
            "\n",
            "\u001b[1m  # google_project_iam_member.editor-supervisors[\"user:tgambin@gmail.com\"]\u001b[0m will be created\n",
            "\u001b[0m  \u001b[32m+\u001b[0m\u001b[0m resource \"google_project_iam_member\" \"editor-supervisors\" {\n",
            "      \u001b[32m+\u001b[0m\u001b[0m etag    = (known after apply)\n",
            "      \u001b[32m+\u001b[0m\u001b[0m id      = (known after apply)\n",
            "      \u001b[32m+\u001b[0m\u001b[0m member  = \"user:tgambin@gmail.com\"\n",
            "      \u001b[32m+\u001b[0m\u001b[0m project = \"ds-2024l-7029\"\n",
            "      \u001b[32m+\u001b[0m\u001b[0m role    = \"roles/editor\"\n",
            "    }\n",
            "\n",
            "\u001b[1m  # google_project_service.service[\"cloudresourcemanager.googleapis.com\"]\u001b[0m will be created\n",
            "\u001b[0m  \u001b[32m+\u001b[0m\u001b[0m resource \"google_project_service\" \"service\" {\n",
            "      \u001b[32m+\u001b[0m\u001b[0m disable_dependent_services = true\n",
            "      \u001b[32m+\u001b[0m\u001b[0m disable_on_destroy         = true\n",
            "      \u001b[32m+\u001b[0m\u001b[0m id                         = (known after apply)\n",
            "      \u001b[32m+\u001b[0m\u001b[0m project                    = \"ds-2024l-7029\"\n",
            "      \u001b[32m+\u001b[0m\u001b[0m service                    = \"cloudresourcemanager.googleapis.com\"\n",
            "    }\n",
            "\n",
            "\u001b[1m  # google_project_service.service[\"iam.googleapis.com\"]\u001b[0m will be created\n",
            "\u001b[0m  \u001b[32m+\u001b[0m\u001b[0m resource \"google_project_service\" \"service\" {\n",
            "      \u001b[32m+\u001b[0m\u001b[0m disable_dependent_services = true\n",
            "      \u001b[32m+\u001b[0m\u001b[0m disable_on_destroy         = true\n",
            "      \u001b[32m+\u001b[0m\u001b[0m id                         = (known after apply)\n",
            "      \u001b[32m+\u001b[0m\u001b[0m project                    = \"ds-2024l-7029\"\n",
            "      \u001b[32m+\u001b[0m\u001b[0m service                    = \"iam.googleapis.com\"\n",
            "    }\n",
            "\n",
            "\u001b[1m  # google_project_service.service[\"iamcredentials.googleapis.com\"]\u001b[0m will be created\n",
            "\u001b[0m  \u001b[32m+\u001b[0m\u001b[0m resource \"google_project_service\" \"service\" {\n",
            "      \u001b[32m+\u001b[0m\u001b[0m disable_dependent_services = true\n",
            "      \u001b[32m+\u001b[0m\u001b[0m disable_on_destroy         = true\n",
            "      \u001b[32m+\u001b[0m\u001b[0m id                         = (known after apply)\n",
            "      \u001b[32m+\u001b[0m\u001b[0m project                    = \"ds-2024l-7029\"\n",
            "      \u001b[32m+\u001b[0m\u001b[0m service                    = \"iamcredentials.googleapis.com\"\n",
            "    }\n",
            "\n",
            "\u001b[1m  # google_project_service.service[\"serviceusage.googleapis.com\"]\u001b[0m will be created\n",
            "\u001b[0m  \u001b[32m+\u001b[0m\u001b[0m resource \"google_project_service\" \"service\" {\n",
            "      \u001b[32m+\u001b[0m\u001b[0m disable_dependent_services = true\n",
            "      \u001b[32m+\u001b[0m\u001b[0m disable_on_destroy         = true\n",
            "      \u001b[32m+\u001b[0m\u001b[0m id                         = (known after apply)\n",
            "      \u001b[32m+\u001b[0m\u001b[0m project                    = \"ds-2024l-7029\"\n",
            "      \u001b[32m+\u001b[0m\u001b[0m service                    = \"serviceusage.googleapis.com\"\n",
            "    }\n",
            "\n",
            "\u001b[1m  # google_project_service.service[\"sts.googleapis.com\"]\u001b[0m will be created\n",
            "\u001b[0m  \u001b[32m+\u001b[0m\u001b[0m resource \"google_project_service\" \"service\" {\n",
            "      \u001b[32m+\u001b[0m\u001b[0m disable_dependent_services = true\n",
            "      \u001b[32m+\u001b[0m\u001b[0m disable_on_destroy         = true\n",
            "      \u001b[32m+\u001b[0m\u001b[0m id                         = (known after apply)\n",
            "      \u001b[32m+\u001b[0m\u001b[0m project                    = \"ds-2024l-7029\"\n",
            "      \u001b[32m+\u001b[0m\u001b[0m service                    = \"sts.googleapis.com\"\n",
            "    }\n",
            "\n",
            "\u001b[1m  # google_service_account.terraform\u001b[0m will be created\n",
            "\u001b[0m  \u001b[32m+\u001b[0m\u001b[0m resource \"google_service_account\" \"terraform\" {\n",
            "      \u001b[32m+\u001b[0m\u001b[0m account_id = \"ds-2024l-7029-lab\"\n",
            "      \u001b[32m+\u001b[0m\u001b[0m disabled   = false\n",
            "      \u001b[32m+\u001b[0m\u001b[0m email      = (known after apply)\n",
            "      \u001b[32m+\u001b[0m\u001b[0m id         = (known after apply)\n",
            "      \u001b[32m+\u001b[0m\u001b[0m member     = (known after apply)\n",
            "      \u001b[32m+\u001b[0m\u001b[0m name       = (known after apply)\n",
            "      \u001b[32m+\u001b[0m\u001b[0m project    = \"ds-2024l-7029\"\n",
            "      \u001b[32m+\u001b[0m\u001b[0m unique_id  = (known after apply)\n",
            "    }\n",
            "\n",
            "\u001b[1m  # google_storage_bucket.notebook-bucket\u001b[0m will be created\n",
            "\u001b[0m  \u001b[32m+\u001b[0m\u001b[0m resource \"google_storage_bucket\" \"notebook-bucket\" {\n",
            "      \u001b[32m+\u001b[0m\u001b[0m effective_labels            = {\n",
            "          \u001b[32m+\u001b[0m\u001b[0m \"goog-terraform-provisioned\" = \"true\"\n",
            "        }\n",
            "      \u001b[32m+\u001b[0m\u001b[0m force_destroy               = true\n",
            "      \u001b[32m+\u001b[0m\u001b[0m id                          = (known after apply)\n",
            "      \u001b[32m+\u001b[0m\u001b[0m location                    = \"EUROPE-WEST1\"\n",
            "      \u001b[32m+\u001b[0m\u001b[0m name                        = \"ds-2024l-7029-notebook-data\"\n",
            "      \u001b[32m+\u001b[0m\u001b[0m project                     = \"ds-2024l-7029\"\n",
            "      \u001b[32m+\u001b[0m\u001b[0m project_number              = (known after apply)\n",
            "      \u001b[32m+\u001b[0m\u001b[0m public_access_prevention    = \"enforced\"\n",
            "      \u001b[32m+\u001b[0m\u001b[0m rpo                         = (known after apply)\n",
            "      \u001b[32m+\u001b[0m\u001b[0m self_link                   = (known after apply)\n",
            "      \u001b[32m+\u001b[0m\u001b[0m storage_class               = \"STANDARD\"\n",
            "      \u001b[32m+\u001b[0m\u001b[0m terraform_labels            = {\n",
            "          \u001b[32m+\u001b[0m\u001b[0m \"goog-terraform-provisioned\" = \"true\"\n",
            "        }\n",
            "      \u001b[32m+\u001b[0m\u001b[0m uniform_bucket_level_access = true\n",
            "      \u001b[32m+\u001b[0m\u001b[0m url                         = (known after apply)\n",
            "\n",
            "      \u001b[32m+\u001b[0m\u001b[0m soft_delete_policy (known after apply)\n",
            "\n",
            "      \u001b[32m+\u001b[0m\u001b[0m versioning (known after apply)\n",
            "\n",
            "      \u001b[32m+\u001b[0m\u001b[0m website (known after apply)\n",
            "    }\n",
            "\n",
            "\u001b[1m  # google_storage_bucket.state-bucket\u001b[0m will be created\n",
            "\u001b[0m  \u001b[32m+\u001b[0m\u001b[0m resource \"google_storage_bucket\" \"state-bucket\" {\n",
            "      \u001b[32m+\u001b[0m\u001b[0m effective_labels            = {\n",
            "          \u001b[32m+\u001b[0m\u001b[0m \"goog-terraform-provisioned\" = \"true\"\n",
            "        }\n",
            "      \u001b[32m+\u001b[0m\u001b[0m force_destroy               = true\n",
            "      \u001b[32m+\u001b[0m\u001b[0m id                          = (known after apply)\n",
            "      \u001b[32m+\u001b[0m\u001b[0m location                    = \"EUROPE-WEST1\"\n",
            "      \u001b[32m+\u001b[0m\u001b[0m name                        = \"ds-2024l-7029-state\"\n",
            "      \u001b[32m+\u001b[0m\u001b[0m project                     = \"ds-2024l-7029\"\n",
            "      \u001b[32m+\u001b[0m\u001b[0m project_number              = (known after apply)\n",
            "      \u001b[32m+\u001b[0m\u001b[0m public_access_prevention    = \"enforced\"\n",
            "      \u001b[32m+\u001b[0m\u001b[0m rpo                         = (known after apply)\n",
            "      \u001b[32m+\u001b[0m\u001b[0m self_link                   = (known after apply)\n",
            "      \u001b[32m+\u001b[0m\u001b[0m storage_class               = \"STANDARD\"\n",
            "      \u001b[32m+\u001b[0m\u001b[0m terraform_labels            = {\n",
            "          \u001b[32m+\u001b[0m\u001b[0m \"goog-terraform-provisioned\" = \"true\"\n",
            "        }\n",
            "      \u001b[32m+\u001b[0m\u001b[0m uniform_bucket_level_access = false\n",
            "      \u001b[32m+\u001b[0m\u001b[0m url                         = (known after apply)\n",
            "\n",
            "      \u001b[32m+\u001b[0m\u001b[0m soft_delete_policy (known after apply)\n",
            "\n",
            "      \u001b[32m+\u001b[0m\u001b[0m versioning (known after apply)\n",
            "\n",
            "      \u001b[32m+\u001b[0m\u001b[0m website (known after apply)\n",
            "    }\n",
            "\n",
            "\u001b[1mPlan:\u001b[0m 14 to add, 0 to change, 0 to destroy.\n",
            "\u001b[0m\n",
            "Changes to Outputs:\n",
            "  \u001b[32m+\u001b[0m\u001b[0m project_name              = \"ds-2024l-7029\"\n",
            "  \u001b[32m+\u001b[0m\u001b[0m terraform_service_account = (known after apply)\n",
            "  \u001b[32m+\u001b[0m\u001b[0m terraform_state_bucket    = (known after apply)\n",
            "\u001b[0m\u001b[1mgoogle_project.tbd_project: Creating...\u001b[0m\u001b[0m\n",
            "\u001b[0m\u001b[1mgoogle_project.tbd_project: Still creating... [10s elapsed]\u001b[0m\u001b[0m\n",
            "\u001b[0m\u001b[1mgoogle_project.tbd_project: Still creating... [20s elapsed]\u001b[0m\u001b[0m\n",
            "\u001b[0m\u001b[1mgoogle_project.tbd_project: Still creating... [30s elapsed]\u001b[0m\u001b[0m\n",
            "\u001b[0m\u001b[1mgoogle_project.tbd_project: Still creating... [40s elapsed]\u001b[0m\u001b[0m\n",
            "\u001b[0m\u001b[1mgoogle_project.tbd_project: Still creating... [50s elapsed]\u001b[0m\u001b[0m\n",
            "\u001b[0m\u001b[1mgoogle_project.tbd_project: Still creating... [1m0s elapsed]\u001b[0m\u001b[0m\n",
            "\u001b[0m\u001b[1mgoogle_project.tbd_project: Still creating... [1m10s elapsed]\u001b[0m\u001b[0m\n",
            "\u001b[0m\u001b[1mgoogle_project.tbd_project: Still creating... [1m20s elapsed]\u001b[0m\u001b[0m\n",
            "\u001b[0m\u001b[1mgoogle_project.tbd_project: Still creating... [1m30s elapsed]\u001b[0m\u001b[0m\n",
            "\u001b[0m\u001b[1mgoogle_project.tbd_project: Still creating... [1m40s elapsed]\u001b[0m\u001b[0m\n",
            "\u001b[0m\u001b[1mgoogle_project.tbd_project: Still creating... [1m50s elapsed]\u001b[0m\u001b[0m\n",
            "\u001b[0m\u001b[1mgoogle_project.tbd_project: Still creating... [2m0s elapsed]\u001b[0m\u001b[0m\n",
            "\u001b[0m\u001b[1mgoogle_project.tbd_project: Still creating... [2m10s elapsed]\u001b[0m\u001b[0m\n",
            "\u001b[0m\u001b[1mgoogle_project.tbd_project: Still creating... [2m20s elapsed]\u001b[0m\u001b[0m\n",
            "\u001b[0m\u001b[1mgoogle_project.tbd_project: Still creating... [2m30s elapsed]\u001b[0m\u001b[0m\n",
            "\u001b[0m\u001b[1mgoogle_project.tbd_project: Still creating... [2m40s elapsed]\u001b[0m\u001b[0m\n",
            "\u001b[0m\u001b[1mgoogle_project.tbd_project: Still creating... [2m50s elapsed]\u001b[0m\u001b[0m\n",
            "\u001b[0m\u001b[1mgoogle_project.tbd_project: Still creating... [3m0s elapsed]\u001b[0m\u001b[0m\n",
            "\u001b[0m\u001b[1mgoogle_project.tbd_project: Still creating... [3m10s elapsed]\u001b[0m\u001b[0m\n",
            "\u001b[0m\u001b[1mgoogle_project.tbd_project: Still creating... [3m20s elapsed]\u001b[0m\u001b[0m\n",
            "\u001b[0m\u001b[1mgoogle_project.tbd_project: Creation complete after 3m24s [id=projects/ds-2024l-7029]\u001b[0m\n",
            "\u001b[0m\u001b[1mgoogle_storage_bucket.state-bucket: Creating...\u001b[0m\u001b[0m\n",
            "\u001b[0m\u001b[1mgoogle_project_service.service[\"cloudresourcemanager.googleapis.com\"]: Creating...\u001b[0m\u001b[0m\n",
            "\u001b[0m\u001b[1mgoogle_project_iam_member.editor-supervisors[\"user:sitekwb@gmail.com\"]: Creating...\u001b[0m\u001b[0m\n",
            "\u001b[0m\u001b[1mgoogle_service_account.terraform: Creating...\u001b[0m\u001b[0m\n",
            "\u001b[0m\u001b[1mgoogle_project_service.service[\"sts.googleapis.com\"]: Creating...\u001b[0m\u001b[0m\n",
            "\u001b[0m\u001b[1mgoogle_project_iam_member.editor-supervisors[\"user:tgambin@gmail.com\"]: Creating...\u001b[0m\u001b[0m\n",
            "\u001b[0m\u001b[1mgoogle_project_iam_audit_config.tbd_project_audit: Creating...\u001b[0m\u001b[0m\n",
            "\u001b[0m\u001b[1mgoogle_project_service.service[\"serviceusage.googleapis.com\"]: Creating...\u001b[0m\u001b[0m\n",
            "\u001b[0m\u001b[1mgoogle_project_iam_member.editor-supervisors[\"user:marek.wiewiorka@gmail.com\"]: Creating...\u001b[0m\u001b[0m\n",
            "\u001b[0m\u001b[1mgoogle_storage_bucket.notebook-bucket: Creating...\u001b[0m\u001b[0m\n",
            "\u001b[0m\u001b[1mgoogle_storage_bucket.state-bucket: Creation complete after 2s [id=ds-2024l-7029-state]\u001b[0m\n",
            "\u001b[0m\u001b[1mgoogle_project_service.service[\"iam.googleapis.com\"]: Creating...\u001b[0m\u001b[0m\n",
            "\u001b[0m\u001b[1mgoogle_storage_bucket.notebook-bucket: Creation complete after 2s [id=ds-2024l-7029-notebook-data]\u001b[0m\n",
            "\u001b[0m\u001b[1mgoogle_project_service.service[\"iamcredentials.googleapis.com\"]: Creating...\u001b[0m\u001b[0m\n",
            "\u001b[0m\u001b[1mgoogle_project_iam_member.editor-supervisors[\"user:tgambin@gmail.com\"]: Creation complete after 7s [id=ds-2024l-7029/roles/editor/user:tgambin@gmail.com]\u001b[0m\n",
            "\u001b[0m\u001b[1mgoogle_project_iam_member.editor-supervisors[\"user:sitekwb@gmail.com\"]: Creation complete after 7s [id=ds-2024l-7029/roles/editor/user:sitekwb@gmail.com]\u001b[0m\n",
            "\u001b[0m\u001b[1mgoogle_project_iam_member.editor-supervisors[\"user:marek.wiewiorka@gmail.com\"]: Creation complete after 7s [id=ds-2024l-7029/roles/editor/user:marek.wiewiorka@gmail.com]\u001b[0m\n",
            "\u001b[0m\u001b[1mgoogle_project_iam_audit_config.tbd_project_audit: Creation complete after 9s [id=projects/ds-2024l-7029/audit_config/allServices]\u001b[0m\n",
            "\u001b[0m\u001b[1mgoogle_project_service.service[\"cloudresourcemanager.googleapis.com\"]: Still creating... [10s elapsed]\u001b[0m\u001b[0m\n",
            "\u001b[0m\u001b[1mgoogle_service_account.terraform: Still creating... [10s elapsed]\u001b[0m\u001b[0m\n",
            "\u001b[0m\u001b[1mgoogle_project_service.service[\"sts.googleapis.com\"]: Still creating... [10s elapsed]\u001b[0m\u001b[0m\n",
            "\u001b[0m\u001b[1mgoogle_project_service.service[\"serviceusage.googleapis.com\"]: Still creating... [10s elapsed]\u001b[0m\u001b[0m\n",
            "\u001b[0m\u001b[1mgoogle_project_service.service[\"iam.googleapis.com\"]: Still creating... [10s elapsed]\u001b[0m\u001b[0m\n",
            "\u001b[0m\u001b[1mgoogle_project_service.service[\"iamcredentials.googleapis.com\"]: Still creating... [10s elapsed]\u001b[0m\u001b[0m\n",
            "\u001b[0m\u001b[1mgoogle_service_account.terraform: Creation complete after 13s [id=projects/ds-2024l-7029/serviceAccounts/ds-2024l-7029-lab@ds-2024l-7029.iam.gserviceaccount.com]\u001b[0m\n",
            "\u001b[0m\u001b[1mgoogle_project_iam_member.editor-member: Creating...\u001b[0m\u001b[0m\n",
            "\u001b[0m\u001b[1mgoogle_project_service.service[\"cloudresourcemanager.googleapis.com\"]: Still creating... [20s elapsed]\u001b[0m\u001b[0m\n",
            "\u001b[0m\u001b[1mgoogle_project_service.service[\"sts.googleapis.com\"]: Still creating... [20s elapsed]\u001b[0m\u001b[0m\n",
            "\u001b[0m\u001b[1mgoogle_project_service.service[\"serviceusage.googleapis.com\"]: Still creating... [20s elapsed]\u001b[0m\u001b[0m\n",
            "\u001b[0m\u001b[1mgoogle_project_service.service[\"iam.googleapis.com\"]: Creation complete after 18s [id=ds-2024l-7029/iam.googleapis.com]\u001b[0m\n",
            "\u001b[0m\u001b[1mgoogle_project_service.service[\"iamcredentials.googleapis.com\"]: Creation complete after 18s [id=ds-2024l-7029/iamcredentials.googleapis.com]\u001b[0m\n",
            "\u001b[0m\u001b[1mgoogle_project_service.service[\"cloudresourcemanager.googleapis.com\"]: Creation complete after 20s [id=ds-2024l-7029/cloudresourcemanager.googleapis.com]\u001b[0m\n",
            "\u001b[0m\u001b[1mgoogle_project_service.service[\"serviceusage.googleapis.com\"]: Creation complete after 20s [id=ds-2024l-7029/serviceusage.googleapis.com]\u001b[0m\n",
            "\u001b[0m\u001b[1mgoogle_project_service.service[\"sts.googleapis.com\"]: Creation complete after 20s [id=ds-2024l-7029/sts.googleapis.com]\u001b[0m\n",
            "\u001b[0m\u001b[1mgoogle_project_iam_member.editor-member: Creation complete after 8s [id=ds-2024l-7029/roles/owner/serviceAccount:ds-2024l-7029-lab@ds-2024l-7029.iam.gserviceaccount.com]\u001b[0m\n",
            "\u001b[0m\u001b[1m\u001b[32m\n",
            "Apply complete! Resources: 14 added, 0 changed, 0 destroyed.\n",
            "\u001b[0m\u001b[0m\u001b[1m\u001b[32m\n",
            "Outputs:\n",
            "\n",
            "\u001b[0mproject_name = \"ds-2024l-7029\"\n",
            "terraform_service_account = \"ds-2024l-7029-lab@ds-2024l-7029.iam.gserviceaccount.com\"\n",
            "terraform_state_bucket = \"ds-2024l-7029-state\"\n"
          ]
        },
        {
          "output_type": "execute_result",
          "data": {
            "text/plain": []
          },
          "metadata": {},
          "execution_count": 10
        }
      ],
      "source": [
        "%%shell\n",
        "# bootstrap a project:\n",
        "cd $REPO_NAME/infra/bootstrap\n",
        "terraform apply -auto-approve"
      ]
    },
    {
      "cell_type": "markdown",
      "metadata": {
        "id": "uzbH3D_PUSfQ"
      },
      "source": [
        "### Finish\n",
        "Copy the **output variables** from the above out as you will need them in the next notebook."
      ]
    },
    {
      "cell_type": "markdown",
      "metadata": {
        "id": "H3UYRdYEUSfQ"
      },
      "source": []
    }
  ],
  "metadata": {
    "colab": {
      "provenance": [],
      "include_colab_link": true
    },
    "kernelspec": {
      "display_name": "Python 3 (ipykernel)",
      "language": "python",
      "name": "python3"
    },
    "language_info": {
      "codemirror_mode": {
        "name": "ipython",
        "version": 3
      },
      "file_extension": ".py",
      "mimetype": "text/x-python",
      "name": "python",
      "nbconvert_exporter": "python",
      "pygments_lexer": "ipython3"
    }
  },
  "nbformat": 4,
  "nbformat_minor": 0
}